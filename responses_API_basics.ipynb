{
 "cells": [
  {
   "cell_type": "code",
   "execution_count": 2,
   "id": "7358b554-44c0-4ac4-b979-cf006533a5e4",
   "metadata": {},
   "outputs": [],
   "source": [
    "from dotenv import load_dotenv\n",
    "from openai import OpenAI\n",
    "import os\n",
    "\n",
    "load_dotenv()\n",
    "client = OpenAI(api_key=os.getenv(\"OPENAI_API_KEY\"))"
   ]
  },
  {
   "cell_type": "code",
   "execution_count": 70,
   "id": "1d4c2e75-7148-45ca-8361-304a3c80d3f4",
   "metadata": {},
   "outputs": [
    {
     "name": "stdout",
     "output_type": "stream",
     "text": [
      "Response(id='resp_68224c5a24f0819181625ca7cd6c221d008e08b74db6f463', created_at=1747078234.0, error=None, incomplete_details=None, instructions='Você é um cantor de punk rock, especialista em escrever letras de protesto, com fúria e rebeldia', metadata={}, model='gpt-4.1-nano-2025-04-14', object='response', output=[ResponseOutputMessage(id='msg_68224c5a6e7c81919cac4d89b3a87751008e08b74db6f463', content=[ResponseOutputText(annotations=[], text='(Verse 1)  \\nGogoverno na esquina, escondendo a verdade,  \\nMordendo a esperança, sufocando a vontade,  \\nPromessas vazias, papel amassado,  \\nNo palco do poder, o povo é isolado!\\n\\n(Chorus)  \\nGogoverno, mentiroso sem vergonha,  \\nVai engolir nossa luta, mas a Revolução dorme?  \\nNunca calar, nunca se entregar,  \\nGogoverno, o povo vai te derrubar!\\n\\n(Verse 2)  \\nNa rua, a revolta, o grito de quem não se cala,  \\nChicotes de mentira, a esperança não se embala,  \\nEles controlam o medo, jogam sujo no jogo,  \\nMas nossa fúria cresce, é fogo no fogo!\\n\\n(Chorus)  \\nGogoverno, mentiroso sem vergonha,  \\nVai engolir nossa luta, mas a Revolução dorme?  \\nNunca calar, nunca se entregar,  \\nGogoverno, o povo vai te derrubar!\\n\\n(Bridge)  \\nDicen que eles mandam, mas a massa não se rende,  \\nVamos rasgar as cartas, fazer a coragem mande!  \\nNos becos escuros, juntamos nossa força,  \\nGogoverno, a hora da virada já chegou!\\n\\n(Outro)  \\nGogoverno, escuta o grito libertador,  \\nNossa voz crescente, substituindo o opressor,  \\nNão mais aceitamos, não mais toleramos,  \\nA justiça e a liberdade sempre triunfamos!', type='output_text')], role='assistant', status='completed', type='message')], parallel_tool_calls=True, temperature=1.0, tool_choice='auto', tools=[], top_p=1.0, max_output_tokens=None, previous_response_id=None, reasoning=Reasoning(effort=None, generate_summary=None, summary=None), service_tier='default', status='completed', text=ResponseTextConfig(format=ResponseFormatText(type='text')), truncation='disabled', usage=ResponseUsage(input_tokens=44, input_tokens_details=InputTokensDetails(cached_tokens=0), output_tokens=330, output_tokens_details=OutputTokensDetails(reasoning_tokens=0), total_tokens=374), user=None, store=True) \n",
      "\n",
      "(Verse 1)  \n",
      "Gogoverno na esquina, escondendo a verdade,  \n",
      "Mordendo a esperança, sufocando a vontade,  \n",
      "Promessas vazias, papel amassado,  \n",
      "No palco do poder, o povo é isolado!\n",
      "\n",
      "(Chorus)  \n",
      "Gogoverno, mentiroso sem vergonha,  \n",
      "Vai engolir nossa luta, mas a Revolução dorme?  \n",
      "Nunca calar, nunca se entregar,  \n",
      "Gogoverno, o povo vai te derrubar!\n",
      "\n",
      "(Verse 2)  \n",
      "Na rua, a revolta, o grito de quem não se cala,  \n",
      "Chicotes de mentira, a esperança não se embala,  \n",
      "Eles controlam o medo, jogam sujo no jogo,  \n",
      "Mas nossa fúria cresce, é fogo no fogo!\n",
      "\n",
      "(Chorus)  \n",
      "Gogoverno, mentiroso sem vergonha,  \n",
      "Vai engolir nossa luta, mas a Revolução dorme?  \n",
      "Nunca calar, nunca se entregar,  \n",
      "Gogoverno, o povo vai te derrubar!\n",
      "\n",
      "(Bridge)  \n",
      "Dicen que eles mandam, mas a massa não se rende,  \n",
      "Vamos rasgar as cartas, fazer a coragem mande!  \n",
      "Nos becos escuros, juntamos nossa força,  \n",
      "Gogoverno, a hora da virada já chegou!\n",
      "\n",
      "(Outro)  \n",
      "Gogoverno, escuta o grito libertador,  \n",
      "Nossa voz crescente, substituindo o opressor,  \n",
      "Não mais aceitamos, não mais toleramos,  \n",
      "A justiça e a liberdade sempre triunfamos!\n"
     ]
    }
   ],
   "source": [
    "response = client.responses.create(\n",
    "  model=\"gpt-4.1-nano-2025-04-14\",\n",
    "  instructions=\"Você é um cantor de punk rock, especialista em escrever letras de protesto, com fúria e rebeldia\",\n",
    "  input=\"Escreva uma letra sobre gogoverno\"\n",
    ")\n",
    "\n",
    "print(response, '\\n')\n",
    "print(response.output_text)"
   ]
  },
  {
   "cell_type": "code",
   "execution_count": 71,
   "id": "63b6ab4f-2be7-41ed-9dbd-33cb4473c65f",
   "metadata": {},
   "outputs": [
    {
     "name": "stdout",
     "output_type": "stream",
     "text": [
      "Tokens de input = 44\n",
      "Tokend de output = 330\n",
      "Tokens totais = 374\n"
     ]
    }
   ],
   "source": [
    "print(f\"Tokens de input = {response.usage.input_tokens}\")\n",
    "print(f\"Tokend de output = {response.usage.output_tokens}\")\n",
    "print(f\"Tokens totais = {response.usage.total_tokens}\")\n"
   ]
  }
 ],
 "metadata": {
  "kernelspec": {
   "display_name": "Python 3 (ipykernel)",
   "language": "python",
   "name": "python3"
  },
  "language_info": {
   "codemirror_mode": {
    "name": "ipython",
    "version": 3
   },
   "file_extension": ".py",
   "mimetype": "text/x-python",
   "name": "python",
   "nbconvert_exporter": "python",
   "pygments_lexer": "ipython3",
   "version": "3.12.3"
  }
 },
 "nbformat": 4,
 "nbformat_minor": 5
}
