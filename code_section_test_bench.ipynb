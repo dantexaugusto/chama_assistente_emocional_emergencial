{
 "cells": [
  {
   "cell_type": "code",
   "execution_count": 20,
   "id": "a6d6fb55-f60b-494b-b0ac-f2b236b8fcc6",
   "metadata": {},
   "outputs": [
    {
     "name": "stdout",
     "output_type": "stream",
     "text": [
      "<built-in method keys of dict object at 0x71924ac6a880>\n"
     ]
    }
   ],
   "source": [
    "import json\n",
    "\n",
    "with open(\"usrids_conversation_state.json\", \"r\", encoding=\"utf-8\") as idsConvJson:\n",
    "    usrIDs_convDict = json.load(idsConvJson)\n",
    "\n",
    "print(usrIDs_convDict.keys)\n"
   ]
  }
 ],
 "metadata": {
  "kernelspec": {
   "display_name": "Python 3 (ipykernel)",
   "language": "python",
   "name": "python3"
  },
  "language_info": {
   "codemirror_mode": {
    "name": "ipython",
    "version": 3
   },
   "file_extension": ".py",
   "mimetype": "text/x-python",
   "name": "python",
   "nbconvert_exporter": "python",
   "pygments_lexer": "ipython3",
   "version": "3.12.3"
  }
 },
 "nbformat": 4,
 "nbformat_minor": 5
}
