{
 "cells": [
  {
   "cell_type": "code",
   "execution_count": 6,
   "id": "d8a54ceb-0c07-4ee6-9282-d478ff7d8ec7",
   "metadata": {},
   "outputs": [],
   "source": [
    "from dotenv import load_dotenv\n",
    "from openai import OpenAI\n",
    "import os\n",
    "import base64\n",
    "import requests\n",
    "\n",
    "load_dotenv()\n",
    "client = OpenAI(api_key=os.getenv(\"OPENAI_API_KEY\"))"
   ]
  },
  {
   "cell_type": "code",
   "execution_count": null,
   "id": "cb9b2279-4f59-4098-8787-169a49df4224",
   "metadata": {},
   "outputs": [],
   "source": [
    "def audio_function ():\n",
    "    # Fetch the audio file and convert it to a base64 encoded string\n",
    "    url = \"https://cdn.openai.com/API/docs/audio/alloy.wav\"\n",
    "    response = requests.get(url)\n",
    "    response.raise_for_status()\n",
    "    wav_data = response.content\n",
    "    encoded_string = base64.b64encode(wav_data).decode('utf-8')\n",
    "    \n",
    "    completion = client.chat.completions.create(\n",
    "        model=\"gpt-4o-audio-preview\",\n",
    "        modalities=[\"text\", \"audio\"],\n",
    "        audio={\"voice\": \"alloy\", \"format\": \"wav\"},\n",
    "        messages=[\n",
    "            {\n",
    "                \"role\": \"user\",\n",
    "                \"content\": [\n",
    "                    { \n",
    "                        \"type\": \"text\",\n",
    "                        \"text\": \"What is in this recording?\"\n",
    "                    },\n",
    "                    {\n",
    "                        \"type\": \"input_audio\",\n",
    "                        \"input_audio\": {\n",
    "                            \"data\": encoded_string,\n",
    "                            \"format\": \"wav\"\n",
    "                        }\n",
    "                    }\n",
    "                ]\n",
    "            },\n",
    "        ]\n",
    "    )\n"
   ]
  },
  {
   "cell_type": "code",
   "execution_count": null,
   "id": "716a679e-e04b-4666-bf3c-1d0decc6cfa6",
   "metadata": {},
   "outputs": [],
   "source": [
    "def main():\n",
    "    \n",
    "    \n",
    "if __name__ == \"__main__\":\n",
    "    main()"
   ]
  }
 ],
 "metadata": {
  "kernelspec": {
   "display_name": "Python 3 (ipykernel)",
   "language": "python",
   "name": "python3"
  },
  "language_info": {
   "codemirror_mode": {
    "name": "ipython",
    "version": 3
   },
   "file_extension": ".py",
   "mimetype": "text/x-python",
   "name": "python",
   "nbconvert_exporter": "python",
   "pygments_lexer": "ipython3",
   "version": "3.12.3"
  }
 },
 "nbformat": 4,
 "nbformat_minor": 5
}
